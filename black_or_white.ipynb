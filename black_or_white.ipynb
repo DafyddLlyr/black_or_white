{
 "cells": [
  {
   "cell_type": "code",
   "execution_count": 40,
   "metadata": {},
   "outputs": [],
   "source": [
    "import geopandas as gpd\n",
    "import pandas as pd\n",
    "from shapely.ops import voronoi_diagram\n",
    "from keplergl import KeplerGl"
   ]
  },
  {
   "cell_type": "code",
   "execution_count": 41,
   "metadata": {},
   "outputs": [
    {
     "data": {
      "text/plain": [
       "<AxesSubplot:>"
      ]
     },
     "execution_count": 41,
     "metadata": {},
     "output_type": "execute_result"
    },
    {
     "data": {
      "image/png": "[encoded data removed]",
      "text/plain": [
       "<Figure size 432x288 with 1 Axes>"
      ]
     },
     "metadata": {
      "needs_background": "light"
     },
     "output_type": "display_data"
    }
   ],
   "source": [
    "black_df = pd.read_csv(\"black.csv\", encoding=\"utf-8\")\n",
    "black_df[\"Coordinates\"] = black_df[\"Coordinates\"].apply(lambda coords: [ord for ord in str(coords).split()])\n",
    "split_lat_lon = pd.DataFrame(black_df[\"Coordinates\"].tolist(), columns=[\"lat\", \"lon\"])\n",
    "split_lat_lon[\"lat\"] = split_lat_lon[\"lat\"].apply(lambda x: x[:-2])\n",
    "split_lat_lon[\"lon\"] = split_lat_lon[\"lon\"].apply(lambda x: x[:-2] if x[-1] == \"E\" else f'-{x[:-2]}')\n",
    "combined = pd.concat([black_df, split_lat_lon], axis=1, join='inner')\n",
    "black_gdf = gpd.GeoDataFrame(combined, geometry=gpd.points_from_xy(combined.lon, combined.lat)).drop([\"Coordinates\", \"OS grid\", \"lat\", \"lon\"], axis=1)\n",
    "black_gdf.plot()"
   ]
  },
  {
   "cell_type": "code",
   "execution_count": 42,
   "metadata": {},
   "outputs": [
    {
     "data": {
      "text/html": [
       "<div>\n",
       "<style scoped>\n",
       "    .dataframe tbody tr th:only-of-type {\n",
       "        vertical-align: middle;\n",
       "    }\n",
       "\n",
       "    .dataframe tbody tr th {\n",
       "        vertical-align: top;\n",
       "    }\n",
       "\n",
       "    .dataframe thead th {\n",
       "        text-align: right;\n",
       "    }\n",
       "</style>\n",
       "<table border=\"1\" class=\"dataframe\">\n",
       "  <thead>\n",
       "    <tr style=\"text-align: right;\">\n",
       "      <th></th>\n",
       "      <th>Location</th>\n",
       "      <th>Locality</th>\n",
       "      <th>geometry</th>\n",
       "    </tr>\n",
       "  </thead>\n",
       "  <tbody>\n",
       "    <tr>\n",
       "      <th>0</th>\n",
       "      <td>Whiteacre</td>\n",
       "      <td>Kent</td>\n",
       "      <td>POINT (1.01000 51.18000)</td>\n",
       "    </tr>\n",
       "    <tr>\n",
       "      <th>1</th>\n",
       "      <td>Whiteadder Water</td>\n",
       "      <td>Scottish Borders</td>\n",
       "      <td>POINT (-2.34000 55.83000)</td>\n",
       "    </tr>\n",
       "    <tr>\n",
       "      <th>2</th>\n",
       "      <td>Whiteadder Water</td>\n",
       "      <td>East Lothian</td>\n",
       "      <td>POINT (-2.54000 55.85000)</td>\n",
       "    </tr>\n",
       "    <tr>\n",
       "      <th>3</th>\n",
       "      <td>Whiteash Green</td>\n",
       "      <td>Essex</td>\n",
       "      <td>POINT (0.60000 51.93000)</td>\n",
       "    </tr>\n",
       "    <tr>\n",
       "      <th>4</th>\n",
       "      <td>White Ball</td>\n",
       "      <td>Somerset</td>\n",
       "      <td>POINT (-3.29000 50.96000)</td>\n",
       "    </tr>\n",
       "  </tbody>\n",
       "</table>\n",
       "</div>"
      ],
      "text/plain": [
       "           Location          Locality                   geometry\n",
       "0         Whiteacre              Kent   POINT (1.01000 51.18000)\n",
       "1  Whiteadder Water  Scottish Borders  POINT (-2.34000 55.83000)\n",
       "2  Whiteadder Water      East Lothian  POINT (-2.54000 55.85000)\n",
       "3    Whiteash Green             Essex   POINT (0.60000 51.93000)\n",
       "4        White Ball          Somerset  POINT (-3.29000 50.96000)"
      ]
     },
     "execution_count": 42,
     "metadata": {},
     "output_type": "execute_result"
    }
   ],
   "source": [
    "white_df = pd.read_csv(\"white.csv\", encoding=\"utf-8\")\n",
    "white_df[\"Coordinates\"] = white_df[\"Coordinates\"].apply(lambda coords: [ord for ord in str(coords).split()])\n",
    "split_lat_lon = pd.DataFrame(white_df[\"Coordinates\"].tolist(), columns=[\"lat\", \"lon\"])\n",
    "split_lat_lon[\"lat\"] = split_lat_lon[\"lat\"].apply(lambda x: x[:-2])\n",
    "split_lat_lon[\"lon\"] = split_lat_lon[\"lon\"].apply(lambda x: x[:-2] if x[-1] == \"E\" else f'-{x[:-2]}')\n",
    "combined = pd.concat([white_df, split_lat_lon], axis=1, join='inner')\n",
    "white_gdf = gpd.GeoDataFrame(combined, geometry=gpd.points_from_xy(combined.lon, combined.lat)).drop([\"Coordinates\", \"OS grid\", \"lat\", \"lon\"], axis=1)\n",
    "white_gdf.head()\n"
   ]
  },
  {
   "cell_type": "code",
   "execution_count": 43,
   "metadata": {},
   "outputs": [],
   "source": [
    "black_and_white = black_gdf.append(white_gdf)\n"
   ]
  },
  {
   "cell_type": "code",
   "execution_count": 44,
   "metadata": {},
   "outputs": [
    {
     "data": {
      "text/plain": [
       "<AxesSubplot:>"
      ]
     },
     "execution_count": 44,
     "metadata": {},
     "output_type": "execute_result"
    },
    {
     "data": {
      "image/png": "[encoded data removed]",
      "text/plain": [
       "<Figure size 432x288 with 1 Axes>"
      ]
     },
     "metadata": {
      "needs_background": "light"
     },
     "output_type": "display_data"
    }
   ],
   "source": [
    "regions = black_and_white[\"geometry\"].unary_union\n",
    "voroni = {\"geometry\": voronoi_diagram(regions)}\n",
    "voroni_gdf = gpd.GeoDataFrame(voroni)\n",
    "voroni_gdf.plot()"
   ]
  },
  {
   "cell_type": "code",
   "execution_count": 45,
   "metadata": {},
   "outputs": [
    {
     "data": {
      "text/plain": [
       "<AxesSubplot:>"
      ]
     },
     "execution_count": 45,
     "metadata": {},
     "output_type": "execute_result"
    },
    {
     "data": {
      "image/png": "[encoded data removed]",
      "text/plain": [
       "<Figure size 432x288 with 1 Axes>"
      ]
     },
     "metadata": {
      "needs_background": "light"
     },
     "output_type": "display_data"
    }
   ],
   "source": [
    "voroni_gdf = voroni_gdf.sjoin(black_and_white)\n",
    "# voroni_gdf = voroni_gdf.set_crs(epsg=27700)\n",
    "# voroni_gdf = voroni_gdf.to_crs(epsg=3587)\n",
    "voroni_gdf.plot()"
   ]
  },
  {
   "cell_type": "code",
   "execution_count": 46,
   "metadata": {},
   "outputs": [],
   "source": [
    "world = gpd.read_file(gpd.datasets.get_path(\"naturalearth_lowres\"))\n",
    "uk = world[(world.name == \"United Kingdom\")]"
   ]
  },
  {
   "cell_type": "code",
   "execution_count": 47,
   "metadata": {},
   "outputs": [
    {
     "name": "stdout",
     "output_type": "stream",
     "text": [
      "User Guide: https://docs.kepler.gl/docs/keplergl-jupyter\n"
     ]
    },
    {
     "name": "stderr",
     "output_type": "stream",
     "text": [
      "C:\\Users\\dafydd.pearson\\Miniconda3\\lib\\site-packages\\geopandas\\geodataframe.py:2106: UserWarning: CRS mismatch between the CRS of left geometries and the CRS of right geometries.\n",
      "Use `to_crs()` to reproject one of the input geometries to match the CRS of the other.\n",
      "\n",
      "Left CRS: None\n",
      "Right CRS: GEOGCS[\"WGS 84\",DATUM[\"WGS_1984\",SPHEROID[\"WGS 84\" ...\n",
      "\n",
      "  return geopandas.clip(self, mask=mask, keep_geom_type=keep_geom_type)\n"
     ]
    },
    {
     "data": {
      "application/vnd.jupyter.widget-view+json": {
       "model_id": "9f162f9aa5514144a7bda050ef276a34",
       "version_major": 2,
       "version_minor": 0
      },
      "text/plain": [
       "KeplerGl(data={'unnamed': {'index': [301, 330, 269, 267, 317, 209, 288, 263, 280, 245, 293, 294, 239, 273, 306…"
      ]
     },
     "metadata": {},
     "output_type": "display_data"
    }
   ],
   "source": [
    "map = KeplerGl()\n",
    "map.add_data(voroni_gdf.clip(uk))\n",
    "map"
   ]
  }
 ],
 "metadata": {
  "interpreter": {
   "hash": "ca1b4dadd4b5f1042c30241bbe89743e04877b11050f3c789765dcf767a7040e"
  },
  "kernelspec": {
   "display_name": "Python 3.9.7 64-bit ('base': conda)",
   "language": "python",
   "name": "python3"
  },
  "language_info": {
   "codemirror_mode": {
    "name": "ipython",
    "version": 3
   },
   "file_extension": ".py",
   "mimetype": "text/x-python",
   "name": "python",
   "nbconvert_exporter": "python",
   "pygments_lexer": "ipython3",
   "version": "3.9.7"
  },
  "orig_nbformat": 4
 },
 "nbformat": 4,
 "nbformat_minor": 2
}
