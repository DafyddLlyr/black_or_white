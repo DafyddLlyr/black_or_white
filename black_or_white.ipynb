{
 "cells": [
  {
   "cell_type": "code",
   "execution_count": 13,
   "metadata": {},
   "outputs": [],
   "source": [
    "import geopandas as gpd\n",
    "import pandas as pd\n",
    "from shapely.ops import voronoi_diagram\n",
    "from keplergl import KeplerGl\n",
    "import folium\n",
    "import json"
   ]
  },
  {
   "cell_type": "code",
   "execution_count": 14,
   "metadata": {},
   "outputs": [],
   "source": [
    "def coords_csv_to_gdf(colour):\n",
    "  df = pd.read_csv(f\"{colour}.csv\", encoding=\"utf-8\")\n",
    "  df[\"colour\"] = colour\n",
    "  df[\"Coordinates\"] = df[\"Coordinates\"].apply(lambda coords: [ord for ord in str(coords).split()])\n",
    "  split_lat_lon = pd.DataFrame(df[\"Coordinates\"].tolist(), columns=[\"lat\", \"lon\"])\n",
    "  split_lat_lon[\"lat\"] = split_lat_lon[\"lat\"].apply(lambda x: x[:-2])\n",
    "  split_lat_lon[\"lon\"] = split_lat_lon[\"lon\"].apply(lambda x: x[:-2] if x[-1] == \"E\" else f'-{x[:-2]}')\n",
    "  combined = pd.concat([df, split_lat_lon], axis=1, join='inner')\n",
    "  gdf = gpd.GeoDataFrame(combined, geometry=gpd.points_from_xy(combined.lon, combined.lat)).drop([\"Coordinates\", \"OS grid\", \"lat\", \"lon\"], axis=1)\n",
    "  return gdf"
   ]
  },
  {
   "cell_type": "code",
   "execution_count": 15,
   "metadata": {},
   "outputs": [
    {
     "data": {
      "text/html": [
       "<div>\n",
       "<style scoped>\n",
       "    .dataframe tbody tr th:only-of-type {\n",
       "        vertical-align: middle;\n",
       "    }\n",
       "\n",
       "    .dataframe tbody tr th {\n",
       "        vertical-align: top;\n",
       "    }\n",
       "\n",
       "    .dataframe thead th {\n",
       "        text-align: right;\n",
       "    }\n",
       "</style>\n",
       "<table border=\"1\" class=\"dataframe\">\n",
       "  <thead>\n",
       "    <tr style=\"text-align: right;\">\n",
       "      <th></th>\n",
       "      <th>Location</th>\n",
       "      <th>Locality</th>\n",
       "      <th>colour</th>\n",
       "      <th>geometry</th>\n",
       "    </tr>\n",
       "  </thead>\n",
       "  <tbody>\n",
       "    <tr>\n",
       "      <th>0</th>\n",
       "      <td>Blackawton</td>\n",
       "      <td>Devon</td>\n",
       "      <td>black</td>\n",
       "      <td>POINT (-3.68000 50.33000)</td>\n",
       "    </tr>\n",
       "    <tr>\n",
       "      <th>1</th>\n",
       "      <td>Black Bank</td>\n",
       "      <td>Cambridgeshire</td>\n",
       "      <td>black</td>\n",
       "      <td>POINT (0.24000 52.44000)</td>\n",
       "    </tr>\n",
       "    <tr>\n",
       "      <th>2</th>\n",
       "      <td>Black Bank</td>\n",
       "      <td>Warwickshire</td>\n",
       "      <td>black</td>\n",
       "      <td>POINT (-1.48000 52.47000)</td>\n",
       "    </tr>\n",
       "    <tr>\n",
       "      <th>3</th>\n",
       "      <td>Black Banks</td>\n",
       "      <td>Darlington</td>\n",
       "      <td>black</td>\n",
       "      <td>POINT (-1.55000 54.50000)</td>\n",
       "    </tr>\n",
       "    <tr>\n",
       "      <th>4</th>\n",
       "      <td>Black Barn</td>\n",
       "      <td>Lincolnshire</td>\n",
       "      <td>black</td>\n",
       "      <td>POINT (0.12000 52.83000)</td>\n",
       "    </tr>\n",
       "    <tr>\n",
       "      <th>...</th>\n",
       "      <td>...</td>\n",
       "      <td>...</td>\n",
       "      <td>...</td>\n",
       "      <td>...</td>\n",
       "    </tr>\n",
       "    <tr>\n",
       "      <th>159</th>\n",
       "      <td>Whiteway</td>\n",
       "      <td>Bath and North East Somerset</td>\n",
       "      <td>white</td>\n",
       "      <td>POINT (-2.41000 51.36000)</td>\n",
       "    </tr>\n",
       "    <tr>\n",
       "      <th>160</th>\n",
       "      <td>Whitewell</td>\n",
       "      <td>Cornwall</td>\n",
       "      <td>white</td>\n",
       "      <td>POINT (-4.75000 50.58000)</td>\n",
       "    </tr>\n",
       "    <tr>\n",
       "      <th>161</th>\n",
       "      <td>Whitewell</td>\n",
       "      <td>Lancashire</td>\n",
       "      <td>white</td>\n",
       "      <td>POINT (-2.53000 53.90000)</td>\n",
       "    </tr>\n",
       "    <tr>\n",
       "      <th>162</th>\n",
       "      <td>Whitewell</td>\n",
       "      <td>Wrexham</td>\n",
       "      <td>white</td>\n",
       "      <td>POINT (-2.76000 52.96000)</td>\n",
       "    </tr>\n",
       "    <tr>\n",
       "      <th>163</th>\n",
       "      <td>Whitewell Bottom</td>\n",
       "      <td>Lancashire</td>\n",
       "      <td>white</td>\n",
       "      <td>POINT (-2.25000 53.70000)</td>\n",
       "    </tr>\n",
       "  </tbody>\n",
       "</table>\n",
       "<p>336 rows × 4 columns</p>\n",
       "</div>"
      ],
      "text/plain": [
       "             Location                      Locality colour  \\\n",
       "0          Blackawton                         Devon  black   \n",
       "1          Black Bank                Cambridgeshire  black   \n",
       "2          Black Bank                  Warwickshire  black   \n",
       "3         Black Banks                    Darlington  black   \n",
       "4          Black Barn                  Lincolnshire  black   \n",
       "..                ...                           ...    ...   \n",
       "159          Whiteway  Bath and North East Somerset  white   \n",
       "160         Whitewell                      Cornwall  white   \n",
       "161         Whitewell                    Lancashire  white   \n",
       "162         Whitewell                       Wrexham  white   \n",
       "163  Whitewell Bottom                    Lancashire  white   \n",
       "\n",
       "                      geometry  \n",
       "0    POINT (-3.68000 50.33000)  \n",
       "1     POINT (0.24000 52.44000)  \n",
       "2    POINT (-1.48000 52.47000)  \n",
       "3    POINT (-1.55000 54.50000)  \n",
       "4     POINT (0.12000 52.83000)  \n",
       "..                         ...  \n",
       "159  POINT (-2.41000 51.36000)  \n",
       "160  POINT (-4.75000 50.58000)  \n",
       "161  POINT (-2.53000 53.90000)  \n",
       "162  POINT (-2.76000 52.96000)  \n",
       "163  POINT (-2.25000 53.70000)  \n",
       "\n",
       "[336 rows x 4 columns]"
      ]
     },
     "execution_count": 15,
     "metadata": {},
     "output_type": "execute_result"
    }
   ],
   "source": [
    "white_gdf = coords_csv_to_gdf(\"white\")\n",
    "black_gdf = coords_csv_to_gdf(\"black\")\n",
    "black_and_white = black_gdf.append(white_gdf)\n",
    "black_and_white = black_and_white.set_crs(epsg=4326)\n",
    "black_and_white"
   ]
  },
  {
   "cell_type": "code",
   "execution_count": 16,
   "metadata": {},
   "outputs": [
    {
     "data": {
      "text/plain": [
       "<AxesSubplot:>"
      ]
     },
     "execution_count": 16,
     "metadata": {},
     "output_type": "execute_result"
    },
    {
     "data": {
      "image/png": "[encoded data removed]",
      "text/plain": [
       "<Figure size 432x288 with 1 Axes>"
      ]
     },
     "metadata": {
      "needs_background": "light"
     },
     "output_type": "display_data"
    }
   ],
   "source": [
    "regions = black_and_white[\"geometry\"].unary_union\n",
    "voroni = {\"geometry\": voronoi_diagram(regions)}\n",
    "voroni_gdf = gpd.GeoDataFrame(voroni, crs=\"EPSG:4326\")\n",
    "voroni_gdf.plot()"
   ]
  },
  {
   "cell_type": "code",
   "execution_count": 17,
   "metadata": {},
   "outputs": [
    {
     "data": {
      "text/plain": [
       "<AxesSubplot:>"
      ]
     },
     "execution_count": 17,
     "metadata": {},
     "output_type": "execute_result"
    },
    {
     "data": {
      "image/png": "[encoded data removed]",
      "text/plain": [
       "<Figure size 432x288 with 1 Axes>"
      ]
     },
     "metadata": {
      "needs_background": "light"
     },
     "output_type": "display_data"
    }
   ],
   "source": [
    "voroni_gdf = voroni_gdf.sjoin(black_and_white)\n",
    "voroni_gdf.plot()"
   ]
  },
  {
   "cell_type": "code",
   "execution_count": 18,
   "metadata": {},
   "outputs": [
    {
     "data": {
      "text/plain": [
       "<AxesSubplot:>"
      ]
     },
     "execution_count": 18,
     "metadata": {},
     "output_type": "execute_result"
    },
    {
     "data": {
      "image/png": "[encoded data removed]",
      "text/plain": [
       "<Figure size 432x288 with 1 Axes>"
      ]
     },
     "metadata": {
      "needs_background": "light"
     },
     "output_type": "display_data"
    }
   ],
   "source": [
    "uk = gpd.read_file('uk_outline.geojson')\n",
    "uk.plot()"
   ]
  },
  {
   "cell_type": "code",
   "execution_count": 21,
   "metadata": {},
   "outputs": [
    {
     "name": "stdout",
     "output_type": "stream",
     "text": [
      "User Guide: https://docs.kepler.gl/docs/keplergl-jupyter\n"
     ]
    },
    {
     "data": {
      "application/vnd.jupyter.widget-view+json": {
       "model_id": "9ca3d77e7bf145dba3abf39ee4e2f964",
       "version_major": 2,
       "version_minor": 0
      },
      "text/plain": [
       "KeplerGl(config={'version': 'v1', 'config': {'visState': {'filters': [], 'layers': [{'id': 'Voroni', 'type': '…"
      ]
     },
     "metadata": {},
     "output_type": "display_data"
    }
   ],
   "source": [
    "config = json.load(open('config.json'))\n",
    "map = KeplerGl(config=config)\n",
    "map_layer_gdf = voroni_gdf.clip(uk)\n",
    "map_layer_gdf.to_file(\"map_layer.geojson\")\n",
    "map.add_data(map_layer_gdf, name=\"Voroni\")\n",
    "map\n",
    "# map = folium.Map()\n",
    "# voroni_layer = folium.GeoJson(voroni_gdf.clip(uk).to_json())\n",
    "# voroni_layer.add_to(map)\n",
    "# map.fit_bounds(voroni_layer)\n",
    "# map"
   ]
  }
 ],
 "metadata": {
  "interpreter": {
   "hash": "ca1b4dadd4b5f1042c30241bbe89743e04877b11050f3c789765dcf767a7040e"
  },
  "kernelspec": {
   "display_name": "Python 3.9.7 64-bit ('base': conda)",
   "language": "python",
   "name": "python3"
  },
  "language_info": {
   "codemirror_mode": {
    "name": "ipython",
    "version": 3
   },
   "file_extension": ".py",
   "mimetype": "text/x-python",
   "name": "python",
   "nbconvert_exporter": "python",
   "pygments_lexer": "ipython3",
   "version": "3.9.7"
  },
  "orig_nbformat": 4
 },
 "nbformat": 4,
 "nbformat_minor": 2
}
